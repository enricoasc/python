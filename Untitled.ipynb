{
 "cells": [
  {
   "cell_type": "code",
   "execution_count": null,
   "id": "4bbb8031",
   "metadata": {},
   "outputs": [
    {
     "ename": "",
     "evalue": "",
     "output_type": "error",
     "traceback": [
      "\u001b[1;31mRunning cells with 'Python 3.7.3 64-bit' requires ipykernel package.\n",
      "Run the following command to install 'ipykernel' into the Python environment. \n",
      "Command: '/bin/python3 -m pip install ipykernel -U --user --force-reinstall'"
     ]
    }
   ],
   "source": [
    "# concatenar com '+' e tratar valores para impressão com 'str' \n",
    "\n",
    "faturamento = 1500\n",
    "custo = 500\n",
    "lucro = faturamento - custo\n",
    "\n",
    "print(\"O faturamento foi  \"+str(faturamento))\n",
    "print(\"O custo da loja foi \"+str(custo))\n",
    "print('O lucro foi de '+str(lucro) +' reais')"
   ]
  },
  {
   "cell_type": "code",
   "execution_count": null,
   "id": "ff0b3264",
   "metadata": {},
   "outputs": [],
   "source": [
    "#\\*-- Metodo .format ajusta as variaveis para tratamento de string no print */\n",
    "\n",
    "faturamento = 1500\n",
    "custo = 500\n",
    "lucro = faturamento - custo\n",
    "\n",
    "print(\"O fatuuramento da loja foi {} \\nO custo da Loja foi {} \\nO lucro da Loja foi {} reais\".format(faturamento,custo,lucro))"
   ]
  },
  {
   "cell_type": "code",
   "execution_count": null,
   "id": "301d83b9",
   "metadata": {},
   "outputs": [],
   "source": [
    "# no pyton a identação é usado para verificar qual condição deve assumar qnd verdadeiro ou falso\n",
    "# como é usado o 'if'\n",
    "#\n",
    "#\n",
    "#if condição:\n",
    "#    primeira\n",
    "#    segunda\n",
    "#    terceira\n",
    "#else:\n",
    "#    primeira\n",
    "#    segunda\n",
    "#    terceira\n",
    "#    \n",
    "#sai do if\n",
    "\n"
   ]
  }
 ],
 "metadata": {
  "interpreter": {
   "hash": "916dbcbb3f70747c44a77c7bcd40155683ae19c65e1c03b4aa3499c5328201f1"
  },
  "kernelspec": {
   "display_name": "Python 3.7.3 64-bit",
   "language": "python",
   "name": "python3"
  },
  "language_info": {
   "codemirror_mode": {
    "name": "ipython",
    "version": 3
   },
   "file_extension": ".py",
   "mimetype": "text/x-python",
   "name": "python",
   "nbconvert_exporter": "python",
   "pygments_lexer": "ipython3",
   "version": "3.7.3"
  }
 },
 "nbformat": 4,
 "nbformat_minor": 5
}
