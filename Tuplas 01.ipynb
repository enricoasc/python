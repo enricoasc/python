{
 "cells": [
  {
   "cell_type": "markdown",
   "metadata": {},
   "source": [
    "# Tuplas\n",
    "\n",
    "### Estrutura:\n",
    "\n",
    "tupla = (valor, valor, valor, ...)\n",
    "\n",
    "### Diferença\n",
    "\n",
    "Parece uma lista, mas é imutável.\n",
    "\n",
    "### Vantagens:\n",
    "\n",
    "- Mais eficiente (em termos de performance)\n",
    "- Protege a base de dados (por ser imutável)\n",
    "- Muito usado para dados heterogêneos\n",
    "\n",
    "### Criando tuplas"
   ]
  },
  {
   "cell_type": "code",
   "execution_count": 4,
   "metadata": {},
   "outputs": [],
   "source": [
    "vendas = ('Lira', '25/08/2020', '15/02/1994', 2000, 'Estagiário')\n"
   ]
  },
  {
   "cell_type": "code",
   "execution_count": 11,
   "metadata": {},
   "outputs": [
    {
     "name": "stdout",
     "output_type": "stream",
     "text": [
      "('Lira', '25/08/2020', '15/02/1994', 2000, 'Estagiário')\n"
     ]
    }
   ],
   "source": [
    "print(vendas)"
   ]
  },
  {
   "cell_type": "markdown",
   "metadata": {},
   "source": [
    "### Acessando o valor de uma tupla"
   ]
  },
  {
   "cell_type": "code",
   "execution_count": 14,
   "metadata": {},
   "outputs": [
    {
     "name": "stdout",
     "output_type": "stream",
     "text": [
      "['Lira', '25/08/2020', '15/02/1994', 4000, 'Estagiário']\n"
     ]
    }
   ],
   "source": [
    "nome = vendas[0]\n",
    "data_contratacao = vendas[1]\n",
    "data_nascimento = vendas[2]\n",
    "salario = vendas[3]\n",
    "cargo = vendas[4]\n",
    "\n",
    "# vendas[3] = 4000 -> tupas sã imutáveis e aceita multiplos tipos de variáveis de uma vez \n",
    "novaLista = list(vendas) # transformando tupla em lista \n",
    "novaLista[3] = 4000  # modificando lista \n",
    "print(novaLista) "
   ]
  },
  {
   "cell_type": "code",
   "execution_count": 29,
   "metadata": {},
   "outputs": [
    {
     "name": "stdout",
     "output_type": "stream",
     "text": [
      "Lira\n",
      "(0, 'Lira')\n",
      "(1, '25/08/2020')\n",
      "(2, '15/02/1994')\n",
      "(3, 2000)\n",
      "(4, 'Estagiário')\n",
      "\n",
      "\n",
      "0 Lira\n",
      "1 25/08/2020\n",
      "2 15/02/1994\n",
      "3 2000\n",
      "4 Estagiário\n"
     ]
    }
   ],
   "source": [
    "n1,n2,n3,n4,n5=vendas #divide todos os valores em variaveis diretamente\n",
    "print(n1) \n",
    "\n",
    "for item in enumerate(vendas): # enumerate transfoma em tuplas para acessar a numeração da lista\n",
    "    print(item)\n",
    "\n",
    "print('\\n')    \n",
    "\n",
    "for i,item in enumerate(vendas):\n",
    "    print(i,item)\n"
   ]
  }
 ],
 "metadata": {
  "kernelspec": {
   "display_name": "Python 3",
   "language": "python",
   "name": "python3"
  },
  "language_info": {
   "codemirror_mode": {
    "name": "ipython",
    "version": 3
   },
   "file_extension": ".py",
   "mimetype": "text/x-python",
   "name": "python",
   "nbconvert_exporter": "python",
   "pygments_lexer": "ipython3",
   "version": "3.8.8"
  }
 },
 "nbformat": 4,
 "nbformat_minor": 4
}
