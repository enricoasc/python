{
 "cells": [
  {
   "cell_type": "markdown",
   "metadata": {},
   "source": [
    "# Exercícios\n",
    "\n",
    "## 1. Criando um Registro de Hóspedes\n",
    "\n",
    "Digamos que você está criando o sistema para registrar a chegada de hóspedes em um hotel. No hotel, os hóspedes podem ter quartos com 1, 2, 3 e 4 pessoas. Seu sistema deve conseguir:\n",
    "\n",
    "1. Identificar quantas pessoas o hóspede que acabou de chegar vai ter no quarto (perguntando por meio de input)\n",
    "2. De acordo com a quantidade de pessoas do hóspede, ele deve fazer um for para perguntar o cpf e o nome de cada pessoa, a fim de registrá-la no quarto (2 inputs para cada pessoa, 1 para o cpf e outro para o nome)\n",
    "3. O seu programa então deve gerar uma lista com todas as pessoas que ficarão no quarto em que cada item dessa lista é o nome da pessoa e o cpf da pessoa, assim:"
   ]
  },
  {
   "cell_type": "raw",
   "metadata": {},
   "source": [
    "quarto = [\n",
    "    ['João', 'cpf:00000000000'],\n",
    "    ['Julia', 'cpf:11111111111'],\n",
    "    ['Marcus', 'cpf:22222222222'],\n",
    "    ['Maria', 'cpf:33333333333'],\n",
    "]"
   ]
  },
  {
   "cell_type": "markdown",
   "metadata": {},
   "source": [
    "- Para simplificar, não vamos nos preocupar com possibilidades de \"tentar colocar mais de 1 hóspede, digitar o cpf errado, etc. Nosso objetivo é treinar a criação de uma rotina de cadastro"
   ]
  },
  {
   "cell_type": "code",
   "execution_count": 1,
   "metadata": {},
   "outputs": [
    {
     "name": "stdout",
     "output_type": "stream",
     "text": [
      "Quantas Pessoas no Quarto? 0\n",
      "[]\n"
     ]
    }
   ],
   "source": [
    "#seu código aqui\n",
    "pessoas = int(input('Quantas Pessoas no Quarto? '))\n",
    "quarto = []\n",
    "\n",
    "for i in range(pessoas):\n",
    "    Nome = input('Qual o nome? ')\n",
    "    Cpf = input('Qual CPF? ')\n",
    "    hospede = [Nome,Cpf]\n",
    "    quarto.append(hospede)\n",
    "\n",
    "print(quarto)"
   ]
  },
  {
   "cell_type": "markdown",
   "metadata": {},
   "source": [
    "## 2. Análise de Vendas\n",
    "\n",
    "Nesse exercício vamos fazer uma \"análise simples\" de atingimento de Meta.\n",
    "\n",
    "Temos uma lista com os vendedores e os valores de vendas e queremos identificar (printar) quais os vendedores que bateram a meta e qual foi o valor que eles venderam."
   ]
  },
  {
   "cell_type": "code",
   "execution_count": 6,
   "metadata": {},
   "outputs": [
    {
     "name": "stdout",
     "output_type": "stream",
     "text": [
      "João bateu as vendas fazend 15000 \n",
      "Julia bateu as vendas fazend 27000 \n",
      "Ana bateu as vendas fazend 10300 \n"
     ]
    }
   ],
   "source": [
    "meta = 10000\n",
    "vendas = [\n",
    "    ['João', 15000],\n",
    "    ['Julia', 27000],\n",
    "    ['Marcus', 9900],\n",
    "    ['Maria', 3750],\n",
    "    ['Ana', 10300],\n",
    "    ['Alon', 7870],\n",
    "]\n",
    "#seu código aqui\n",
    "\n",
    "for i in vendas:\n",
    "    if i[1] >= meta:\n",
    "        print('{} bateu as vendas fazend {} '.format(i[0],i[1]))\n",
    "\n"
   ]
  },
  {
   "cell_type": "markdown",
   "metadata": {},
   "source": [
    "## 3. Comparação com Ano Anterior\n",
    "\n",
    "Digamos que você está analisando as vendas de produtos de um ecommerce e quer identificar quais produtos tiveram no ano de 2020 mais vendas do que no ano de 2019, para reportar isso para a diretoria.\n",
    "\n",
    "Sua resposta pode ser um print de cada produto, qual foi a venda de 2019, a venda de 2020 e o % de crescimento de 2020 para 2019.\n",
    "\n",
    "Lembrando, para calcular o % de crescimento de um produto de um ano para o outro, podemos fazer: (vendas_produto2020/vendas_produto2019 - 1)\n",
    "\n",
    "Dica: lembre do enumerate, ele pode facilitar seu \"for\""
   ]
  },
  {
   "cell_type": "code",
   "execution_count": 40,
   "metadata": {},
   "outputs": [
    {
     "name": "stdout",
     "output_type": "stream",
     "text": [
      "Os 4 maiores aumentos da lista desses produtos são: \n",
      " \n",
      "notebook hp com 248.8% de aumento [2019:154753 / 2020:539704]\n",
      "microfone com 96.3% de aumento [2019:328311 / 2020:644622]\n",
      "tv com 94.3% de aumento [2019:405252 / 2020:787604]\n",
      "iphone com 70.5% de aumento [2019:558147 / 2020:951642]\n",
      "câmera canon com 68.2% de aumento [2019:591120 / 2020:994303]\n"
     ]
    }
   ],
   "source": [
    "produtos = ['iphone', 'galaxy', 'ipad', 'tv', 'máquina de café', 'kindle', 'geladeira', 'adega', 'notebook dell', 'notebook hp', 'notebook asus', 'microsoft surface', 'webcam', 'caixa de som', 'microfone', 'câmera canon']\n",
    "vendas2019 = [558147,712350,573823,405252,718654,531580,973139,892292,422760,154753,887061,438508,237467,489705,328311,591120]\n",
    "vendas2020 = [951642,244295,26964,787604,867660,78830,710331,646016,694913,539704,324831,667179,295633,725316,644622,994303]\n",
    "#seu código aqui\n",
    "aumento = []\n",
    "\n",
    "for idx,ano19 in enumerate(vendas2019):\n",
    "    aumento.append([vendas2020[idx]/ano19-1,idx])\n",
    "    #print('{} em 2019 = {} em 2020 = {} aumento = {:.1%}'.format(produtos[idx],ano19,vendas2020[idx],aumento[idx]))\n",
    "\n",
    "aumento.sort(reverse=True)\n",
    "print('Os 4 maiores aumentos da lista desses produtos são: \\n ')    \n",
    "for i in range(5):\n",
    "    print('{} com {:.1%} de aumento [2019:{} / 2020:{}]'.format(produtos[aumento[i][1]],aumento[i][0],vendas2019[aumento[i][1]],vendas2020[aumento[i][1]]))\n",
    "    "
   ]
  }
 ],
 "metadata": {
  "kernelspec": {
   "display_name": "Python 3",
   "language": "python",
   "name": "python3"
  },
  "language_info": {
   "codemirror_mode": {
    "name": "ipython",
    "version": 3
   },
   "file_extension": ".py",
   "mimetype": "text/x-python",
   "name": "python",
   "nbconvert_exporter": "python",
   "pygments_lexer": "ipython3",
   "version": "3.8.8"
  }
 },
 "nbformat": 4,
 "nbformat_minor": 4
}
