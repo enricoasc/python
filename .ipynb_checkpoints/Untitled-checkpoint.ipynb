{
 "cells": [
  {
   "cell_type": "code",
   "execution_count": 3,
   "id": "4bbb8031",
   "metadata": {},
   "outputs": [
    {
     "name": "stdout",
     "output_type": "stream",
     "text": [
      "O faturamento foi  1500\n",
      "O custo da loja foi 500\n",
      "O lucro foi de 1000 reais\n"
     ]
    }
   ],
   "source": [
    "# concatenar com '+' e tratar valores para impressão com 'str' \n",
    "\n",
    "faturamento = 1500\n",
    "custo = 500\n",
    "lucro = faturamento - custo\n",
    "\n",
    "print(\"O faturamento foi  \"+str(faturamento))\n",
    "print(\"O custo da loja foi \"+str(custo))\n",
    "print('O lucro foi de '+str(lucro) +' reais')"
   ]
  },
  {
   "cell_type": "code",
   "execution_count": 9,
   "id": "ff0b3264",
   "metadata": {},
   "outputs": [
    {
     "name": "stdout",
     "output_type": "stream",
     "text": [
      "O fatuuramento da loja foi 1500 \n",
      "O custo da Loja foi 500 \n",
      "O lucro da Loja foi 1000 reais\n"
     ]
    }
   ],
   "source": [
    "#\\*-- Metodo .format ajusta as variaveis para tratamento de string no print */\n",
    "\n",
    "faturamento = 1500\n",
    "custo = 500\n",
    "lucro = faturamento - custo\n",
    "\n",
    "print(\"O fatuuramento da loja foi {} \\nO custo da Loja foi {} \\nO lucro da Loja foi {} reais\".format(faturamento,custo,lucro))"
   ]
  },
  {
   "cell_type": "code",
   "execution_count": null,
   "id": "301d83b9",
   "metadata": {},
   "outputs": [],
   "source": [
    "# no pyton a identação é usado para verificar qual condição deve assumar qnd verdadeiro ou falso\n",
    "# como é usado o 'if'\n",
    "#\n",
    "#\n",
    "#if condição:\n",
    "#    primeira\n",
    "#    segunda\n",
    "#    terceira\n",
    "#else:\n",
    "#    primeira\n",
    "#    segunda\n",
    "#    terceira\n",
    "#    \n",
    "#sai do if\n",
    "\n"
   ]
  }
 ],
 "metadata": {
  "kernelspec": {
   "display_name": "Python 3",
   "language": "python",
   "name": "python3"
  },
  "language_info": {
   "codemirror_mode": {
    "name": "ipython",
    "version": 3
   },
   "file_extension": ".py",
   "mimetype": "text/x-python",
   "name": "python",
   "nbconvert_exporter": "python",
   "pygments_lexer": "ipython3",
   "version": "3.8.8"
  }
 },
 "nbformat": 4,
 "nbformat_minor": 5
}
