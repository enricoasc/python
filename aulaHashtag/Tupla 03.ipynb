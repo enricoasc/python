{
 "cells": [
  {
   "cell_type": "markdown",
   "metadata": {},
   "source": [
    "# Aplicação de Tupla - Lista de Tuplas\n",
    "\n",
    "### Estrutura:\n",
    "\n",
    "Além de casos como o do enumerate, em que usamos uma função para transformar itens em tuplas porque isso ajuda o nosso código, temos também listas de tuplas como algo comum dentro do Python."
   ]
  },
  {
   "cell_type": "raw",
   "metadata": {},
   "source": [
    "lista = [\n",
    "    tupla1,\n",
    "    tupla2,\n",
    "    tupla3,\n",
    "    ]\n",
    "    \n",
    "ou seja\n",
    "\n",
    "lista = [\n",
    "    (valor1, valor2, valor3),\n",
    "    (valor4, valor5, valor6),\n",
    "    (valor7, valor8, valor9),\n",
    "    ]"
   ]
  },
  {
   "cell_type": "markdown",
   "metadata": {},
   "source": [
    "### Exemplo:\n",
    "\n",
    "Digamos que você está analisando as vendas do Banco de Dados de um e-commerce.\n",
    "\n",
    "Em um determinado dia, você extraiu as vendas do Banco de Dados e elas vieram nesse formato:"
   ]
  },
  {
   "cell_type": "code",
   "execution_count": 2,
   "metadata": {},
   "outputs": [],
   "source": [
    "vendas = [\n",
    "    ('20/08/2020', 'iphone x', 'azul', '128gb', 350, 4000),\n",
    "    ('20/08/2020', 'iphone x', 'prata', '128gb', 1500, 4000),\n",
    "    ('20/08/2020', 'ipad', 'prata', '256gb', 127, 6000),\n",
    "    ('20/08/2020', 'ipad', 'prata', '128gb', 981, 5000),\n",
    "    ('21/08/2020', 'iphone x', 'azul', '128gb', 397, 4000),\n",
    "    ('21/08/2020', 'iphone x', 'prata', '128gb', 1017, 4000),\n",
    "    ('21/08/2020', 'ipad', 'prata', '256gb', 50, 6000),\n",
    "    ('21/08/2020', 'ipad', 'prata', '128gb', 4000, 5000),\n",
    "]"
   ]
  },
  {
   "cell_type": "markdown",
   "metadata": {},
   "source": [
    "- Qual foi o faturamento de IPhone no dia 20/08/2020?\n",
    "- Qual foi o produto mais vendido (em unidades) no dia 21/08/2020?"
   ]
  },
  {
   "cell_type": "code",
   "execution_count": 13,
   "metadata": {},
   "outputs": [
    {
     "name": "stdout",
     "output_type": "stream",
     "text": [
      "iphone x\n",
      "iphone x\n",
      "\n",
      "O faturamento de Iphone no dia 20/08/2020 foi de 7400000\n"
     ]
    }
   ],
   "source": [
    "totalFaturado = 0\n",
    "\n",
    "for iten in vendas:\n",
    "    faturamento, nome, cor, capacidade, qtd, valor = iten\n",
    "    if 'iphone' in nome and faturamento =='20/08/2020':\n",
    "        #print(nome)\n",
    "        totalFaturado += valor * qtd\n",
    "    \n",
    "\n",
    "print('\\nO faturamento de Iphone no dia 20/08/2020 foi de {}'.format(totalFaturado))\n",
    "    "
   ]
  },
  {
   "cell_type": "code",
   "execution_count": 24,
   "metadata": {},
   "outputs": [
    {
     "name": "stdout",
     "output_type": "stream",
     "text": [
      "o Produto que mais vendeu dia 28/08/2020 foi ipad com 4050 unidades \n",
      "\n",
      "\n"
     ]
    }
   ],
   "source": [
    "maior=0\n",
    "produto=[]\n",
    "soma=[]\n",
    "\n",
    "## coleta os valores dos produtos \n",
    "for iten in vendas:\n",
    "    data,nome,cor,capacidade,qtd,valor=iten\n",
    "    if data=='21/08/2020':\n",
    "        if nome in produto: \n",
    "            i_produto = produto.index(nome)\n",
    "            soma[i_produto] += qtd\n",
    "        else:\n",
    "            produto.append(nome)\n",
    "            soma.append(qtd)\n",
    "\n",
    "## busca o maior na lista soma[]\n",
    "for totalCadaProd in soma:\n",
    "    if maior < totalCadaProd:\n",
    "        maior = totalCadaProd\n",
    "\n",
    "## busca qual o nome do produto que é o maior qtd  e imprime \n",
    "if maior in soma:\n",
    "    i_maior = soma.index(maior)\n",
    "    print('o Produto que mais vendeu dia 21/08/2020 foi {} com {} unidades \\n'.format(produto[i_maior],soma[i_maior]))\n",
    "    \n",
    "  \n",
    "    "
   ]
  }
 ],
 "metadata": {
  "kernelspec": {
   "display_name": "Python 3",
   "language": "python",
   "name": "python3"
  },
  "language_info": {
   "codemirror_mode": {
    "name": "ipython",
    "version": 3
   },
   "file_extension": ".py",
   "mimetype": "text/x-python",
   "name": "python",
   "nbconvert_exporter": "python",
   "pygments_lexer": "ipython3",
   "version": "3.8.8"
  }
 },
 "nbformat": 4,
 "nbformat_minor": 4
}
