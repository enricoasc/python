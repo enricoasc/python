{
 "cells": [
  {
   "cell_type": "markdown",
   "metadata": {},
   "source": [
    "# Exercícios\n",
    "\n",
    "## 1. Faturamento do Melhor e do Pior Mês do Ano\n",
    "\n",
    "Qual foi o valor de vendas do melhor mês do Ano?\n",
    "E valor do pior mês do ano?"
   ]
  },
  {
   "cell_type": "code",
   "execution_count": 69,
   "metadata": {},
   "outputs": [
    {
     "name": "stdout",
     "output_type": "stream",
     "text": [
      "O melhor mês foi nov com $ 49.051,00 reais\n",
      "O pior mês foi dez com $ 9.650,00 reias\n"
     ]
    }
   ],
   "source": [
    "meses = ['jan', 'fev', 'mar', 'abr', 'mai', 'jun', 'jul', 'ago', 'set', 'out', 'nov', 'dez']\n",
    "vendas_1sem = [25000, 29000, 22200, 17750, 15870, 19900]\n",
    "vendas_2sem = [19850, 20120, 17540, 15555, 49051, 9650]\n",
    "vendas = vendas_1sem + vendas_2sem\n",
    "# print(vendas)\n",
    "\n",
    "melhor = max(vendas)\n",
    "pior = min(vendas)\n",
    "\n",
    "print('O melhor mês foi {} com $ {:_.2f} reais'.format(meses[vendas.index(melhor)],melhor).replace('.',',').replace('_','.'))\n",
    "print('O pior mês foi {} com $ {:_.2f} reias'.format(meses[vendas.index(pior)],pior).replace('.',',').replace('_','.'))"
   ]
  },
  {
   "cell_type": "markdown",
   "metadata": {},
   "source": [
    "## 2. Continuação\n",
    "\n",
    "Agora relacione as duas listas para printar 'O melhor mês do ano foi {} com {} vendas' e o mesmo para o pior mês do ano.\n",
    "\n",
    "Calcule também o faturamento total do Ano e quanto que o melhor mês representou do faturamento total.\n",
    "\n",
    "Obs: Para o faturamento total, pode usar a função sum(lista) que soma todos os itens de uma lista"
   ]
  },
  {
   "cell_type": "code",
   "execution_count": 64,
   "metadata": {},
   "outputs": [
    {
     "name": "stdout",
     "output_type": "stream",
     "text": [
      "O faturamento total do ano foi de $261.486,00 reais\n",
      "o melhor Mes de venda representou 18.76% do total do faturamento\n"
     ]
    }
   ],
   "source": [
    "print('O faturamento total do ano foi de ${:_.2f} reais'.format(sum(vendas)).replace('.',',').replace('_','.'))\n",
    " \n",
    "print('o melhor Mes de venda representou {:.2%} do total do faturamento'.format((vendas[vendas.index(melhor)])/sum(vendas)))\n"
   ]
  },
  {
   "cell_type": "markdown",
   "metadata": {},
   "source": [
    "## 3. Crie uma lista com o top 3 valores de vendas do ano (sem fazer \"no olho\")\n",
    "\n",
    "Dica: o método remove retira um item da lista."
   ]
  },
  {
   "cell_type": "code",
   "execution_count": 92,
   "metadata": {},
   "outputs": [
    {
     "name": "stdout",
     "output_type": "stream",
     "text": [
      "a lista dos top 3 são : \n",
      "[49051, 29000, 25000]\n"
     ]
    }
   ],
   "source": [
    "vendas.sort(reverse=True)\n",
    "print('a lista dos top 3 são : ')\n",
    "\n",
    "# print('\\n'.join(produtos))\n",
    "print(vendas[:3])"
   ]
  }
 ],
 "metadata": {
  "kernelspec": {
   "display_name": "Python 3",
   "language": "python",
   "name": "python3"
  },
  "language_info": {
   "codemirror_mode": {
    "name": "ipython",
    "version": 3
   },
   "file_extension": ".py",
   "mimetype": "text/x-python",
   "name": "python",
   "nbconvert_exporter": "python",
   "pygments_lexer": "ipython3",
   "version": "3.8.8"
  }
 },
 "nbformat": 4,
 "nbformat_minor": 4
}
