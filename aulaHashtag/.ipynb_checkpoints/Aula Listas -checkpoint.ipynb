{
 "cells": [
  {
   "cell_type": "markdown",
   "metadata": {},
   "source": [
    "# Listas em Python\n",
    "\n",
    "## Estrutura:\n",
    "\n",
    "lista = [valor, valor, valor, valor, ...]\n",
    "\n",
    "lista[i] -> é o valor de índice i da lista. <br>\n",
    "Obs: Lembre que no python o índice começa em 0, então o primeiro item de uma lista é o item lista[0]\n",
    "\n",
    "Para substituir um valor de uma lista você pode fazer:<br>\n",
    "lista[i] = novo_valor\n",
    "\n",
    "Listas de Produtos de uma Loja:"
   ]
  },
  {
   "cell_type": "code",
   "execution_count": 57,
   "metadata": {},
   "outputs": [],
   "source": [
    "produtos = ['tv', 'celular', 'mouse', 'teclado', 'tablet']"
   ]
  },
  {
   "cell_type": "markdown",
   "metadata": {},
   "source": [
    "Lista de Unidades Vendidas de cada Produto da Loja"
   ]
  },
  {
   "cell_type": "code",
   "execution_count": 2,
   "metadata": {},
   "outputs": [],
   "source": [
    "vendas = [1000, 1500, 350, 270, 900]"
   ]
  },
  {
   "cell_type": "markdown",
   "metadata": {},
   "source": [
    "### Nesse caso, as listas funcionam da seguinte forma:"
   ]
  },
  {
   "cell_type": "raw",
   "metadata": {},
   "source": [
    "produtos = ['tv', 'celular', 'mouse', 'teclado', 'tablet']\n",
    "              0 ,      1   ,    2   ,     3    ,     4   \n",
    "vendas = [  1000,    1500  ,   350  ,    270   ,    900  ]"
   ]
  },
  {
   "cell_type": "code",
   "execution_count": 3,
   "metadata": {},
   "outputs": [
    {
     "name": "stdout",
     "output_type": "stream",
     "text": [
      "vendas do produto tv foram de 1000 uniades\n",
      "vendas do produto celular foram de 1500 uniades\n",
      "vendas do produto mouse foram de 350 uniades\n",
      "vendas do produto teclado foram de 270 uniades\n",
      "vendas do produto tablet foram de 900 uniades\n"
     ]
    }
   ],
   "source": [
    "for x in range(len(produtos)):\n",
    "    print('vendas do produto {} foram de {} uniades'.format(produtos[x],vendas[x]))"
   ]
  },
  {
   "cell_type": "code",
   "execution_count": 4,
   "metadata": {},
   "outputs": [
    {
     "name": "stdout",
     "output_type": "stream",
     "text": [
      "lara@gmaal.com\n"
     ]
    }
   ],
   "source": [
    "# substitui trechos de codigo em uma lista \n",
    "texto = 'lira@gmail.com'\n",
    "texto = texto.replace('i','a')\n",
    "print(texto)"
   ]
  },
  {
   "cell_type": "code",
   "execution_count": 5,
   "metadata": {},
   "outputs": [
    {
     "name": "stdout",
     "output_type": "stream",
     "text": [
      "insira o produto desejado : 12\n",
      "Produto 12 não existe no estoque !\n"
     ]
    }
   ],
   "source": [
    "# faz uso da função .index() de dentro de uma lista\n",
    "conProduto = input('insira o produto desejado : ')\n",
    "\n",
    "if conProduto in produtos:\n",
    "    print('a quantidade de itens do produto {} é de {} unidades.'.format(conProduto,vendas[produtos.index(conProduto)]))\n",
    "else:\n",
    "    print('Produto {} não existe no estoque !'.format(conProduto))"
   ]
  },
  {
   "cell_type": "code",
   "execution_count": 6,
   "metadata": {},
   "outputs": [
    {
     "name": "stdout",
     "output_type": "stream",
     "text": [
      "['tv', 'celular', 'mouse', 'teclado', 'tablet', 'notebook']\n"
     ]
    }
   ],
   "source": [
    "# adiciona na lista \n",
    "produtos.append('notebook')\n",
    "print(produtos)\n",
    "\n"
   ]
  },
  {
   "cell_type": "code",
   "execution_count": 7,
   "metadata": {},
   "outputs": [
    {
     "name": "stdout",
     "output_type": "stream",
     "text": [
      "['tv', 'celular', 'mouse', 'teclado', 'tablet']\n"
     ]
    },
    {
     "ename": "IndexError",
     "evalue": "pop index out of range",
     "output_type": "error",
     "traceback": [
      "\u001b[0;31m----------------------------------------------------------------------\u001b[0m",
      "\u001b[0;31mIndexError\u001b[0m                           Traceback (most recent call last)",
      "\u001b[0;32m<ipython-input-7-283c3860fae1>\u001b[0m in \u001b[0;36m<module>\u001b[0;34m\u001b[0m\n\u001b[1;32m      3\u001b[0m \u001b[0mprint\u001b[0m\u001b[0;34m(\u001b[0m\u001b[0mprodutos\u001b[0m\u001b[0;34m)\u001b[0m\u001b[0;34m\u001b[0m\u001b[0;34m\u001b[0m\u001b[0m\n\u001b[1;32m      4\u001b[0m \u001b[0;34m\u001b[0m\u001b[0m\n\u001b[0;32m----> 5\u001b[0;31m \u001b[0mprodutos\u001b[0m\u001b[0;34m.\u001b[0m\u001b[0mpop\u001b[0m\u001b[0;34m(\u001b[0m\u001b[0;36m5\u001b[0m\u001b[0;34m)\u001b[0m\u001b[0;34m\u001b[0m\u001b[0;34m\u001b[0m\u001b[0m\n\u001b[0m\u001b[1;32m      6\u001b[0m \u001b[0mprint\u001b[0m\u001b[0;34m(\u001b[0m\u001b[0mprodutos\u001b[0m\u001b[0;34m)\u001b[0m\u001b[0;34m\u001b[0m\u001b[0;34m\u001b[0m\u001b[0m\n",
      "\u001b[0;31mIndexError\u001b[0m: pop index out of range"
     ]
    }
   ],
   "source": [
    "# remove de duas formas em uma lista\n",
    "produtos.remove('notebook')\n",
    "print(produtos)\n",
    "\n",
    "produtos.pop(5)\n",
    "print(produtos)"
   ]
  },
  {
   "cell_type": "code",
   "execution_count": 8,
   "metadata": {},
   "outputs": [
    {
     "name": "stdout",
     "output_type": "stream",
     "text": [
      "['tv', 'celular', 'mouse', 'teclado', 'tablet']\n",
      "['tv', 'celular', 'mouse', 'teclado', 'tablet']\n"
     ]
    }
   ],
   "source": [
    "# trata trecho de codido para dar andamento no codidgo \n",
    "\n",
    "try:\n",
    "    print(produtos)\n",
    "    produtos.remove('notebook')\n",
    "    print(produtos)\n",
    "    produtos.pop(5)\n",
    "    print(produtos)\n",
    "except:\n",
    "    pass\n",
    "\n",
    "print(produtos)"
   ]
  },
  {
   "cell_type": "code",
   "execution_count": 9,
   "metadata": {},
   "outputs": [
    {
     "name": "stdout",
     "output_type": "stream",
     "text": [
      "5\n",
      "5\n",
      "produto mais vendido é celular com 1500 unidades\n"
     ]
    }
   ],
   "source": [
    "# verifica qual é o mais vendido \n",
    "\n",
    "print(len(produtos))\n",
    "print(len(vendas))\n",
    "\n",
    "pMaisVendido = max(vendas)\n",
    "pMaisVendido = vendas.index(pMaisVendido)\n",
    "\n",
    "print('produto mais vendido é {} com {} unidades'.format(produtos[pMaisVendido],vendas[pMaisVendido]))"
   ]
  },
  {
   "cell_type": "code",
   "execution_count": 10,
   "metadata": {},
   "outputs": [
    {
     "name": "stdout",
     "output_type": "stream",
     "text": [
      "produto menos vendido é teclado com 270 unidades\n"
     ]
    }
   ],
   "source": [
    "# verifica qual é o Menos vendido\n",
    "\n",
    "pMenosVendido = min(vendas)\n",
    "pMenosVendido = vendas.index(pMenosVendido)\n",
    "\n",
    "print('produto menos vendido é {} com {} unidades'.format(produtos[pMenosVendido],vendas[pMenosVendido]))"
   ]
  },
  {
   "cell_type": "code",
   "execution_count": 58,
   "metadata": {},
   "outputs": [
    {
     "name": "stdout",
     "output_type": "stream",
     "text": [
      "['tv', 'celular', 'mouse', 'teclado', 'tablet', 'iphone 12', 'apple watch', 'mi watch']\n",
      "10\n"
     ]
    }
   ],
   "source": [
    "# juntar listas\n",
    "# lista1.extend(lista2)\n",
    "# lista_nova = lista1 + lsita2\n",
    "\n",
    "novos_produtos = ['iphone 12', 'apple watch', 'mi watch']\n",
    "produtos.extend(novos_produtos)\n",
    "\n",
    "print(produtos)\n",
    "\n",
    "novos_produtos = ['dell optmoplex', 'dell latitude']\n",
    "produtos = produtos + novos_produtos\n",
    "\n",
    "print(len(produtos))\n",
    "\n",
    "\n"
   ]
  },
  {
   "cell_type": "code",
   "execution_count": 43,
   "metadata": {},
   "outputs": [
    {
     "name": "stdout",
     "output_type": "stream",
     "text": [
      "['apple watch', 'celular', 'dell latitude', 'dell optmoplex', 'iphone 12', 'mi watch', 'mouse', 'tablet', 'teclado', 'tv']\n",
      "['tv', 'teclado', 'tablet', 'mouse', 'mi watch', 'iphone 12', 'dell optmoplex', 'dell latitude', 'celular', 'apple watch']\n"
     ]
    }
   ],
   "source": [
    "# ordernar listas\n",
    "# lista1.sort()\n",
    "\n",
    "produtos.sort()\n",
    "print(produtos)\n",
    "\n",
    "# ordernar invertido, do maior para o menor\n",
    "produtos.sort(reverse=True)\n",
    "print(produtos)\n",
    "\n"
   ]
  },
  {
   "cell_type": "code",
   "execution_count": 62,
   "metadata": {},
   "outputs": [
    {
     "name": "stdout",
     "output_type": "stream",
     "text": [
      "['tv', 'celular', 'mouse', 'teclado', 'tablet', 'iphone 12', 'apple watch', 'mi watch', 'dell optmoplex', 'dell latitude']\n",
      "tv\n",
      "celular\n",
      "mouse\n",
      "teclado\n",
      "tablet\n",
      "iphone 12\n",
      "apple watch\n",
      "mi watch\n",
      "dell optmoplex\n",
      "dell latitude\n",
      "tv,celular,mouse,teclado,tablet,iphone 12,apple watch,mi watch,dell optmoplex,dell latitude\n",
      "['tv', 'teclado', 'tablet', 'mouse', 'mi watch', 'iphone 12', 'dell optmoplex', 'dell latitude', 'celular', 'apple watch']\n"
     ]
    }
   ],
   "source": [
    "# print de listas : join e split\n",
    "print(produtos)\n",
    "print('\\n'.join(produtos))\n",
    "print(','.join(produtos))\n",
    "\n",
    "# o metodo split funciona com uma string que tenha alguma separação como delimitador\n",
    "produtos2 = \"tv,teclado,tablet,mouse,mi watch,iphone 12,dell optmoplex,dell latitude,celular,apple watch\"\n",
    "lista = produtos2.split(',')\n",
    "print(lista)"
   ]
  },
  {
   "cell_type": "code",
   "execution_count": null,
   "metadata": {},
   "outputs": [],
   "source": [
    "# https://docs.python.org/3/\n",
    "# cartilha de metodos de lista se enconta na documentação do python "
   ]
  }
 ],
 "metadata": {
  "kernelspec": {
   "display_name": "Python 3",
   "language": "python",
   "name": "python3"
  },
  "language_info": {
   "codemirror_mode": {
    "name": "ipython",
    "version": 3
   },
   "file_extension": ".py",
   "mimetype": "text/x-python",
   "name": "python",
   "nbconvert_exporter": "python",
   "pygments_lexer": "ipython3",
   "version": "3.8.8"
  }
 },
 "nbformat": 4,
 "nbformat_minor": 4
}
