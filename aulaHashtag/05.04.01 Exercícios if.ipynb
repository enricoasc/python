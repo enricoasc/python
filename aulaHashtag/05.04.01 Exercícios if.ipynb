{
 "cells": [
  {
   "cell_type": "markdown",
   "metadata": {},
   "source": [
    "# Exercícios com if"
   ]
  },
  {
   "cell_type": "markdown",
   "metadata": {},
   "source": [
    "## 1. Cálculo de Bônus\n",
    "\n",
    "- Crie um programa que calcule e dê um print no bônus que os funcionários devem receber segundo a regra:\n",
    "\n",
    "A meta é 1000 vendas.<br> \n",
    "Se o valor de vendas for maior ou igual a meta, o valor do bônus do funcionário é 10% do valor de vendas.<br>\n",
    "Caso contrário o valor de bônus do funcionário é 0.<br>\n",
    "Print o bônus dos 3 funcionários"
   ]
  },
  {
   "cell_type": "code",
   "execution_count": 4,
   "metadata": {},
   "outputs": [
    {
     "name": "stdout",
     "output_type": "stream",
     "text": [
      "O funcionario 1 recebeu 1000 reais mais 100.0 reais de bonus\n",
      "isso\n",
      "O funcionario 2 recebeu 770 reais mais 0 reais de bonus\n",
      "isso\n",
      "O funcionario 3 recebeu 2700 reais mais 270.0 reais de bonus\n",
      "isso\n"
     ]
    }
   ],
   "source": [
    "vendas_funcionario1 = 1000\n",
    "vendas_funcionario2 = 770\n",
    "vendas_funcionario3 = 2700\n",
    "meta = 1000\n",
    "func = {'funcionario 1' : vendas_funcionario1, 'funcionario 2' : vendas_funcionario2, 'funcionario 3' : vendas_funcionario3}\n",
    "bonus = 0\n",
    "#crie seu código aqui\n",
    "\n",
    "for x in func:\n",
    "    if func[x] >= meta:\n",
    "        bonus=func[x]*0.1\n",
    "    else:\n",
    "        bonus=func[x]*0\n",
    "    print(\"O {} recebeu {} reais mais {} reais de bonus\".format(x,func[x],bonus))\n",
    "\n",
    "    "
   ]
  },
  {
   "cell_type": "raw",
   "metadata": {},
   "source": [
    "Resposta:\n",
    "O funcionário 1 ganhou 100 de bônus\n",
    "O funcionário 2 ganhou 0 de bônus\n",
    "O funcionário 3 ganhou 270 de bônus"
   ]
  },
  {
   "cell_type": "markdown",
   "metadata": {},
   "source": [
    "## 2. Cálculo de bônus com uma nova regra\n",
    "\n",
    "- Agora, crie um novo código que calcule e dê um print no bônus dos funcionários novamente. Porém há uma nova regra nesse 2º caso:\n",
    "\n",
    "A meta é 1000 vendas<br>\n",
    "Agora, os funcionários que venderem muito acima da meta ganham mais bônus do que os outros. Então o bônus é definido da seguinte forma:<br>\n",
    "\n",
    "- Se vendas funcionário for maior ou igual a 2000, então o bônus é de 15% sobre o valor de vendas\n",
    "- Se vendas funcionário for menor do que 2000 e maior ou igual a 1000, então o bônus é de 10% sobre o valor de vendas\n",
    "- Se vendas funcionário for menos do que 1000 então o bônus do funcionário é de 0.\n",
    "\n",
    "Use as mesmas variáveis de vendas_funcionários"
   ]
  },
  {
   "cell_type": "code",
   "execution_count": 2,
   "metadata": {},
   "outputs": [
    {
     "name": "stdout",
     "output_type": "stream",
     "text": [
      "O funcionario 1 ganhou 100.0 reais de bonus\n",
      "O funcionario 2 ganhou 0 reais de bonus\n",
      "O funcionario 3 ganhou 405.0 reais de bonus\n"
     ]
    }
   ],
   "source": [
    "#crie seu código aqui\n",
    "#obs: há 2 formas de fazer, com if dentro de if ou então com if e elif. Escolha a que você preferir\n",
    "\n",
    "for x in func:\n",
    "    if func[x]>=2000 :\n",
    "        bonus=func[x]*0.15\n",
    "    elif func[x]>=1000 and func[x]<2000 :\n",
    "        bonus=func[x]*0.10\n",
    "    else:\n",
    "        bonus=func[x]*0\n",
    "    print(\"O {} ganhou {} reais de bonus\".format(x,bonus))\n"
   ]
  },
  {
   "cell_type": "raw",
   "metadata": {},
   "source": [
    "Resposta:\n",
    "O funcionário 1 ganhou 100 de bônus\n",
    "O funcionário 2 ganhou 0 de bônus\n",
    "O funcionário 3 ganhou 405 de bônus"
   ]
  }
 ],
 "metadata": {
  "interpreter": {
   "hash": "95b1f59cb284e595035daab88d31de18eb86d4bffd5c996db224279815efe55e"
  },
  "kernelspec": {
   "display_name": "Python 3.8.8 ('base')",
   "language": "python",
   "name": "python3"
  },
  "language_info": {
   "codemirror_mode": {
    "name": "ipython",
    "version": 3
   },
   "file_extension": ".py",
   "mimetype": "text/x-python",
   "name": "python",
   "nbconvert_exporter": "python",
   "pygments_lexer": "ipython3",
   "version": "3.8.8"
  }
 },
 "nbformat": 4,
 "nbformat_minor": 4
}
