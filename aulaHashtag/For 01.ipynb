{
 "cells": [
  {
   "cell_type": "markdown",
   "metadata": {},
   "source": [
    "# Estrutura de Repetição: for\n",
    "\n",
    "### Funcionamento:"
   ]
  },
  {
   "cell_type": "raw",
   "metadata": {},
   "source": [
    "for i in range(n):\n",
    "    repetir código n vezes"
   ]
  },
  {
   "cell_type": "code",
   "execution_count": 2,
   "metadata": {},
   "outputs": [
    {
     "name": "stdout",
     "output_type": "stream",
     "text": [
      "Enrico\n",
      "0\n",
      "Enrico\n",
      "1\n",
      "Enrico\n",
      "2\n",
      "Enrico\n",
      "3\n",
      "Enrico\n",
      "4\n"
     ]
    }
   ],
   "source": [
    "for i in range(5):\n",
    "    print('Enrico')\n",
    "    print(i)"
   ]
  },
  {
   "cell_type": "markdown",
   "metadata": {},
   "source": [
    "- Imagine que você está construindo uma automação para enviar todo dia por e-mail um resumo da produção de uma fábrica. Construa um código que exiba a quantidade produzida de cada os produto nesse \"e-mail\""
   ]
  },
  {
   "cell_type": "code",
   "execution_count": 13,
   "metadata": {},
   "outputs": [],
   "source": [
    "produtos = ['coca', 'pepsi', 'guarana', 'sprite', 'fanta']\n",
    "producao = [15000, 12000, 13000, 5000, 250]\n",
    "texto = 'enricoasc@gmail.com'"
   ]
  },
  {
   "cell_type": "code",
   "execution_count": 12,
   "metadata": {},
   "outputs": [
    {
     "name": "stdout",
     "output_type": "stream",
     "text": [
      "15000 unidade produzidas de coca\n",
      "12000 unidade produzidas de pepsi\n",
      "13000 unidade produzidas de guarana\n",
      "5000 unidade produzidas de sprite\n",
      "250 unidade produzidas de fanta\n"
     ]
    }
   ],
   "source": [
    "for i in range(len(producao)):\n",
    "    print('{} unidade produzidas de {}'.format(producao[i],produtos[i]))"
   ]
  },
  {
   "cell_type": "code",
   "execution_count": 15,
   "metadata": {},
   "outputs": [
    {
     "name": "stdout",
     "output_type": "stream",
     "text": [
      "coca\n",
      "pepsi\n",
      "guarana\n",
      "sprite\n",
      "fanta\n"
     ]
    }
   ],
   "source": [
    "#for percorre lista e o conteudo ja é a posição atual da lista \n",
    "for item in produtos: \n",
    "    print(item)\n"
   ]
  },
  {
   "cell_type": "code",
   "execution_count": 18,
   "metadata": {},
   "outputs": [
    {
     "name": "stdout",
     "output_type": "stream",
     "text": [
      "e\n",
      "n\n",
      "r\n",
      "i\n",
      "c\n",
      "o\n",
      "a\n",
      "s\n",
      "c\n",
      "@\n",
      "g\n",
      "m\n",
      "a\n",
      "i\n",
      "l\n",
      ".\n",
      "c\n",
      "o\n",
      "m\n"
     ]
    }
   ],
   "source": [
    "for ch in texto:\n",
    "    print(ch)"
   ]
  },
  {
   "cell_type": "code",
   "execution_count": 17,
   "metadata": {},
   "outputs": [
    {
     "name": "stdout",
     "output_type": "stream",
     "text": [
      "bateu a meta 1200 !\n",
      "bateu a meta 1500 !\n",
      "bateu a meta 1900 !\n",
      "bateu a meta 2750 !\n",
      "bateu a meta 1100 !\n",
      "bateu a meta 1111 !\n",
      "\n",
      "Numeros de pessoas que bateu a meta = 6\n",
      "\n",
      "Porcentagem de metas atigidas = 26.1%\n"
     ]
    }
   ],
   "source": [
    "vendas=[1200,300,800,1500,1900,2750,400,20,23,70,90,80,1100,99,900,880,870,50,1111,120,300,450,800]\n",
    "meta = 1000\n",
    "qtdBateumeta = 0\n",
    "qtdVendas = len(vendas)\n",
    "\n",
    "for i in vendas:\n",
    "    if i >= meta:\n",
    "        print('bateu a meta {} !'.format(i))\n",
    "        qtdBateumeta +=1\n",
    "\n",
    "print('\\nNumeros de pessoas que bateu a meta = {}'.format(qtdBateumeta))\n",
    "print('\\nPorcentagem de metas atigidas = {:.1%}'.format(qtdBateumeta/qtdVendas))\n",
    "\n"
   ]
  },
  {
   "cell_type": "code",
   "execution_count": null,
   "metadata": {},
   "outputs": [],
   "source": []
  }
 ],
 "metadata": {
  "kernelspec": {
   "display_name": "Python 3",
   "language": "python",
   "name": "python3"
  },
  "language_info": {
   "codemirror_mode": {
    "name": "ipython",
    "version": 3
   },
   "file_extension": ".py",
   "mimetype": "text/x-python",
   "name": "python",
   "nbconvert_exporter": "python",
   "pygments_lexer": "ipython3",
   "version": "3.8.8"
  }
 },
 "nbformat": 4,
 "nbformat_minor": 4
}
